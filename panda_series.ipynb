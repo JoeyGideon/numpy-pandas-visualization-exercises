{
 "cells": [
  {
   "cell_type": "code",
   "execution_count": 27,
   "metadata": {},
   "outputs": [],
   "source": [
    "import pandas as pd\n",
    "import numpy as np\n",
    "from pydataset import data"
   ]
  },
  {
   "cell_type": "code",
   "execution_count": 3,
   "metadata": {},
   "outputs": [],
   "source": [
    "my_list = [\"kiwi\", \"mango\", \"strawberry\", \"pineapple\", \"gala apple\", \"honeycrisp apple\", \"tomato\", \"watermelon\",\"honeydew\", \"kiwi\", \"kiwi\", \"kiwi\", \"mango\", \"blueberry\", \"blackberry\", \"gooseberry\", \"papaya\"]\n",
    "my_fruit = pd.Series(my_list)"
   ]
  },
  {
   "cell_type": "code",
   "execution_count": null,
   "metadata": {},
   "outputs": [],
   "source": [
    "# Determine the number of elements in fruits.\n",
    "my_fruit.count()"
   ]
  },
  {
   "cell_type": "code",
   "execution_count": null,
   "metadata": {},
   "outputs": [],
   "source": [
    "# Output only the index from fruits.\n",
    "my_fruit.index"
   ]
  },
  {
   "cell_type": "code",
   "execution_count": null,
   "metadata": {},
   "outputs": [],
   "source": [
    "# Output only the values from fruits.\n",
    "my_fruit.values"
   ]
  },
  {
   "cell_type": "code",
   "execution_count": null,
   "metadata": {},
   "outputs": [],
   "source": [
    "# Confirm the data type of the values in fruits.\n",
    "my_fruit.describe"
   ]
  },
  {
   "cell_type": "code",
   "execution_count": null,
   "metadata": {},
   "outputs": [],
   "source": [
    "# Output only the first five values from fruits. Output the last three values. Output two random values from fruits.\n",
    "my_fruit.head()\n",
    "my_fruit.tail(3)\n",
    "my_fruit.sample(2)"
   ]
  },
  {
   "cell_type": "code",
   "execution_count": null,
   "metadata": {},
   "outputs": [],
   "source": [
    "# Run the .describe() on fruits to see what information it returns when called on a Series with string values.\n",
    "my_fruit.describe()"
   ]
  },
  {
   "cell_type": "code",
   "execution_count": null,
   "metadata": {},
   "outputs": [],
   "source": [
    "\n",
    "# Run the code necessary to produce only the unique string values from fruits.\n",
    "my_fruit.unique()"
   ]
  },
  {
   "cell_type": "code",
   "execution_count": null,
   "metadata": {},
   "outputs": [],
   "source": [
    "# Determine how many times each unique string value occurs in fruits.\n",
    "my_fruit.value_counts()"
   ]
  },
  {
   "cell_type": "code",
   "execution_count": null,
   "metadata": {},
   "outputs": [],
   "source": [
    "# Output the number of vowels in each and every string value.\n",
    "vowels = 'aeiou'\n",
    "\n",
    "def vowel_count(bingbong):\n",
    "    vowel_counter = 0\n",
    "    for letter in bingbong:\n",
    "        if letter in vowels:\n",
    "            vowel_counter += 1\n",
    "    print(vowel_counter)\n",
    "my_fruit.apply(vowel_count).sum()"
   ]
  },
  {
   "cell_type": "code",
   "execution_count": null,
   "metadata": {},
   "outputs": [],
   "source": [
    "# Determine the string value that occurs most frequently in fruits.\n",
    "my_fruit.mode()"
   ]
  },
  {
   "cell_type": "code",
   "execution_count": null,
   "metadata": {},
   "outputs": [],
   "source": [
    "# Determine the string value that occurs least frequently in fruits.\n",
    "my_fruit.value_counts().nsmallest(keep='all')"
   ]
  },
  {
   "cell_type": "code",
   "execution_count": null,
   "metadata": {},
   "outputs": [],
   "source": [
    "# Exercises Part II\n",
    "# Explore more attributes and methods while you continue to work with the fruits Series.\n",
    "# Capitalize all the string values in fruits.\n",
    "my_fruit.str.capitalize()"
   ]
  },
  {
   "cell_type": "code",
   "execution_count": null,
   "metadata": {},
   "outputs": [],
   "source": [
    "\n",
    "# Count the letter \"a\" in all the string values (use string vectorization).\n",
    "my_fruit.str.contains('a').sum()"
   ]
  },
  {
   "cell_type": "code",
   "execution_count": null,
   "metadata": {},
   "outputs": [],
   "source": [
    "# Write the code to get the longestme string value from fruits.\n",
    "my_fruit.str.len().max()"
   ]
  },
  {
   "cell_type": "code",
   "execution_count": 22,
   "metadata": {},
   "outputs": [
    {
     "data": {
      "text/plain": [
       "0     False\n",
       "1      True\n",
       "2      True\n",
       "3      True\n",
       "4      True\n",
       "5      True\n",
       "6      True\n",
       "7      True\n",
       "8      True\n",
       "9     False\n",
       "10    False\n",
       "11    False\n",
       "12     True\n",
       "13     True\n",
       "14     True\n",
       "15     True\n",
       "16     True\n",
       "dtype: bool"
      ]
     },
     "execution_count": 22,
     "metadata": {},
     "output_type": "execute_result"
    }
   ],
   "source": [
    "# Write the code to get the string values with 5 or more letters in the name.\n",
    "my_fruit.str.len() >= 5"
   ]
  },
  {
   "cell_type": "code",
   "execution_count": 34,
   "metadata": {},
   "outputs": [],
   "source": [
    "# Find the fruit(s) containing the letter \"o\" two or more times.\n",
    "def has_two(fruits):\n",
    "    count = 0\n",
    "    for x in fruits:\n",
    "        if x == 'o':\n",
    "            count += 1\n",
    "        return count >=2"
   ]
  },
  {
   "cell_type": "code",
   "execution_count": 35,
   "metadata": {},
   "outputs": [
    {
     "name": "stdout",
     "output_type": "stream",
     "text": [
      "[]\n"
     ]
    }
   ],
   "source": [
    "result = list(filter(has_two, my_fruit))\n",
    "print(result)"
   ]
  },
  {
   "cell_type": "code",
   "execution_count": 36,
   "metadata": {},
   "outputs": [
    {
     "data": {
      "text/plain": [
       "0     False\n",
       "1     False\n",
       "2      True\n",
       "3     False\n",
       "4     False\n",
       "5     False\n",
       "6     False\n",
       "7     False\n",
       "8     False\n",
       "9     False\n",
       "10    False\n",
       "11    False\n",
       "12    False\n",
       "13     True\n",
       "14     True\n",
       "15     True\n",
       "16    False\n",
       "dtype: bool"
      ]
     },
     "execution_count": 36,
     "metadata": {},
     "output_type": "execute_result"
    }
   ],
   "source": [
    "# Write the code to get only the string values containing the substring \"berry\".\n",
    "my_fruit.str.contains('berry')"
   ]
  },
  {
   "cell_type": "code",
   "execution_count": 37,
   "metadata": {},
   "outputs": [
    {
     "data": {
      "text/plain": [
       "0     False\n",
       "1     False\n",
       "2     False\n",
       "3      True\n",
       "4      True\n",
       "5      True\n",
       "6     False\n",
       "7     False\n",
       "8     False\n",
       "9     False\n",
       "10    False\n",
       "11    False\n",
       "12    False\n",
       "13    False\n",
       "14    False\n",
       "15    False\n",
       "16    False\n",
       "dtype: bool"
      ]
     },
     "execution_count": 37,
     "metadata": {},
     "output_type": "execute_result"
    }
   ],
   "source": [
    "# Write the code to get only the string values containing the substring \"apple\".\n",
    "my_fruit.str.contains('apple')"
   ]
  },
  {
   "cell_type": "code",
   "execution_count": 52,
   "metadata": {},
   "outputs": [],
   "source": [
    "# Which string value contains the most vowels\n",
    "def count_vowel(string):\n",
    "                 vowels = ['a','e','i','o','u']\n",
    "                 count = 0\n",
    "                 for letter in string:\n",
    "                    if letter.lower() in vowels:\n",
    "                        count += 1\n",
    "                    return count"
   ]
  },
  {
   "cell_type": "code",
   "execution_count": 57,
   "metadata": {},
   "outputs": [
    {
     "name": "stdout",
     "output_type": "stream",
     "text": [
      "kiwi\n"
     ]
    }
   ],
   "source": [
    "vowels_count = my_fruit.apply(count_vowel)\n",
    "index = vowels_count.idxmax()\n",
    "result = my_fruit[index]\n",
    "print(result)"
   ]
  },
  {
   "cell_type": "code",
   "execution_count": 2,
   "metadata": {},
   "outputs": [],
   "source": [
    "# Exercises Part III\n",
    "\n",
    "# Use pandas to create a Series named letters from the following string. \n",
    "# The easiest way to make this string into a Pandas series is to use list \n",
    "# to convert each individual letter into a single string on a basic Python list.\n",
    "random_string = 'hnvidduckkqxwymbimkccexbkmqygkxoyndmcxnwqarhyffsjpsrabtjzsypmzadfavyrnndndvswreauxovncxtwzpwejilzjrmmbbgbyxvjtewqthafnbkqplarokkyydtubbmnexoypulzwfhqvckdpqtpoppzqrmcvhhpwgjwupgzhiofohawytlsiyecuproguy'\n"
   ]
  },
  {
   "cell_type": "code",
   "execution_count": 3,
   "metadata": {},
   "outputs": [
    {
     "name": "stdout",
     "output_type": "stream",
     "text": [
      "0      h\n",
      "1      n\n",
      "2      v\n",
      "3      i\n",
      "4      d\n",
      "      ..\n",
      "195    r\n",
      "196    o\n",
      "197    g\n",
      "198    u\n",
      "199    y\n",
      "Length: 200, dtype: object\n"
     ]
    }
   ],
   "source": [
    "letters = pd.Series(list(random_string))\n",
    "print(letters)"
   ]
  },
  {
   "cell_type": "code",
   "execution_count": 7,
   "metadata": {},
   "outputs": [
    {
     "name": "stdout",
     "output_type": "stream",
     "text": [
      "y\n"
     ]
    }
   ],
   "source": [
    "# Which letter occurs the most frequently in the letters Series?\n",
    "joined_string =''.join(letters)\n",
    "counts = pd.Series(list(joined_string)).value_counts()\n",
    "most_frequent_letter = counts.index[0]\n",
    "print(most_frequent_letter)"
   ]
  },
  {
   "cell_type": "code",
   "execution_count": 8,
   "metadata": {},
   "outputs": [
    {
     "name": "stdout",
     "output_type": "stream",
     "text": [
      "l\n"
     ]
    }
   ],
   "source": [
    "# Which letter occurs the Least frequently?\n",
    "joined_string =''.join(letters)\n",
    "counts = pd.Series(list(joined_string)).value_counts()\n",
    "least_frequent_letter = counts.index[-1]\n",
    "print(least_frequent_letter)"
   ]
  },
  {
   "cell_type": "code",
   "execution_count": 9,
   "metadata": {},
   "outputs": [],
   "source": [
    "# How many vowels are in the Series?\n",
    "def count_vowel(string):\n",
    "                 vowels = ['a','e','i','o','u']\n",
    "                 count = 0\n",
    "                 for letter in string:\n",
    "                    if letter.lower() in vowels:\n",
    "                        count += 1\n",
    "                    return count"
   ]
  },
  {
   "cell_type": "code",
   "execution_count": 11,
   "metadata": {},
   "outputs": [
    {
     "name": "stdout",
     "output_type": "stream",
     "text": [
      "34\n"
     ]
    }
   ],
   "source": [
    "vowels_count = letters.apply(count_vowel).sum()\n",
    "print(vowels_count)"
   ]
  },
  {
   "cell_type": "code",
   "execution_count": 14,
   "metadata": {},
   "outputs": [
    {
     "name": "stdout",
     "output_type": "stream",
     "text": [
      "0      h\n",
      "1      n\n",
      "2      v\n",
      "4      d\n",
      "5      d\n",
      "7      c\n",
      "8      k\n",
      "9      k\n",
      "10     q\n",
      "11     x\n",
      "12     w\n",
      "13     y\n",
      "14     m\n",
      "15     b\n",
      "17     m\n",
      "18     k\n",
      "19     c\n",
      "20     c\n",
      "22     x\n",
      "23     b\n",
      "24     k\n",
      "25     m\n",
      "26     q\n",
      "27     y\n",
      "28     g\n",
      "29     k\n",
      "30     x\n",
      "32     y\n",
      "33     n\n",
      "34     d\n",
      "35     m\n",
      "36     c\n",
      "37     x\n",
      "38     n\n",
      "39     w\n",
      "40     q\n",
      "42     r\n",
      "43     h\n",
      "44     y\n",
      "45     f\n",
      "46     f\n",
      "47     s\n",
      "48     j\n",
      "49     p\n",
      "50     s\n",
      "51     r\n",
      "53     b\n",
      "54     t\n",
      "55     j\n",
      "56     z\n",
      "57     s\n",
      "58     y\n",
      "59     p\n",
      "60     m\n",
      "61     z\n",
      "63     d\n",
      "64     f\n",
      "66     v\n",
      "67     y\n",
      "68     r\n",
      "69     n\n",
      "70     n\n",
      "71     d\n",
      "72     n\n",
      "73     d\n",
      "74     v\n",
      "75     s\n",
      "76     w\n",
      "77     r\n",
      "81     x\n",
      "83     v\n",
      "84     n\n",
      "85     c\n",
      "86     x\n",
      "87     t\n",
      "88     w\n",
      "89     z\n",
      "90     p\n",
      "91     w\n",
      "93     j\n",
      "95     l\n",
      "96     z\n",
      "97     j\n",
      "98     r\n",
      "99     m\n",
      "100    m\n",
      "101    b\n",
      "102    b\n",
      "103    g\n",
      "104    b\n",
      "105    y\n",
      "106    x\n",
      "107    v\n",
      "108    j\n",
      "109    t\n",
      "111    w\n",
      "112    q\n",
      "113    t\n",
      "114    h\n",
      "116    f\n",
      "117    n\n",
      "118    b\n",
      "119    k\n",
      "120    q\n",
      "121    p\n",
      "122    l\n",
      "124    r\n",
      "126    k\n",
      "127    k\n",
      "128    y\n",
      "129    y\n",
      "130    d\n",
      "131    t\n",
      "133    b\n",
      "134    b\n",
      "135    m\n",
      "136    n\n",
      "138    x\n",
      "140    y\n",
      "141    p\n",
      "143    l\n",
      "144    z\n",
      "145    w\n",
      "146    f\n",
      "147    h\n",
      "148    q\n",
      "149    v\n",
      "150    c\n",
      "151    k\n",
      "152    d\n",
      "153    p\n",
      "154    q\n",
      "155    t\n",
      "156    p\n",
      "158    p\n",
      "159    p\n",
      "160    z\n",
      "161    q\n",
      "162    r\n",
      "163    m\n",
      "164    c\n",
      "165    v\n",
      "166    h\n",
      "167    h\n",
      "168    p\n",
      "169    w\n",
      "170    g\n",
      "171    j\n",
      "172    w\n",
      "174    p\n",
      "175    g\n",
      "176    z\n",
      "177    h\n",
      "180    f\n",
      "182    h\n",
      "184    w\n",
      "185    y\n",
      "186    t\n",
      "187    l\n",
      "188    s\n",
      "190    y\n",
      "192    c\n",
      "194    p\n",
      "195    r\n",
      "197    g\n",
      "199    y\n",
      "dtype: object\n"
     ]
    }
   ],
   "source": [
    "# How many consonants are in the Series?\n",
    "import re\n",
    "vowels = re.compile('[aeiou]',flags=re.IGNORECASE)\n",
    "consonants = letters[~letters.str.contains(vowels)]\n",
    "print(consonants)"
   ]
  },
  {
   "cell_type": "code",
   "execution_count": 16,
   "metadata": {},
   "outputs": [
    {
     "data": {
      "text/plain": [
       "0      H\n",
       "1      N\n",
       "2      V\n",
       "3      I\n",
       "4      D\n",
       "      ..\n",
       "195    R\n",
       "196    O\n",
       "197    G\n",
       "198    U\n",
       "199    Y\n",
       "Length: 200, dtype: object"
      ]
     },
     "execution_count": 16,
     "metadata": {},
     "output_type": "execute_result"
    }
   ],
   "source": [
    "# Create a Series that has all of the same letters but uppercased.\n",
    "letters.str.upper()"
   ]
  },
  {
   "cell_type": "code",
   "execution_count": 18,
   "metadata": {},
   "outputs": [
    {
     "data": {
      "image/png": "[encoded data removed]",
      "text/plain": [
       "<Figure size 640x480 with 1 Axes>"
      ]
     },
     "metadata": {},
     "output_type": "display_data"
    }
   ],
   "source": [
    "# Create a bar plot of the frequencies of the 6 most commonly occuring letters.\n",
    "import matplotlib.pyplot as plt\n",
    "counts = letters.value_counts().head(5)\n",
    "plt.bar(counts.index, counts.values)\n",
    "plt.title('Frequencies of 6 most commonly occuring letters')\n",
    "plt.xlabel('Letters')\n",
    "plt.ylabel('Frequency')\n",
    "plt.show()"
   ]
  },
  {
   "cell_type": "code",
   "execution_count": 29,
   "metadata": {},
   "outputs": [
    {
     "name": "stdout",
     "output_type": "stream",
     "text": [
      "0       $796,459.41\n",
      "1           $278.60\n",
      "2       $482,571.67\n",
      "3     $4,503,915.98\n",
      "4      $2,121,418.3\n",
      "5      $1,260,813.3\n",
      "6        $87,231.01\n",
      "7     $1,509,175.45\n",
      "8     $4,138,548.00\n",
      "9     $2,848,913.80\n",
      "10      $594,715.39\n",
      "11    $4,789,988.17\n",
      "12     $4,513,644.5\n",
      "13    $3,191,059.97\n",
      "14    $1,758,712.24\n",
      "15    $4,338,283.54\n",
      "16    $4,738,303.38\n",
      "17    $2,791,759.67\n",
      "18      $769,681.94\n",
      "19      $452,650.23\n",
      "dtype: object\n"
     ]
    }
   ],
   "source": [
    "# Use pandas to create a Series named numbers from the following list:\n",
    "\n",
    "numbers = ['$796,459.41', '$278.60', '$482,571.67', '$4,503,915.98', '$2,121,418.3',\n",
    "  '$1,260,813.3', '$87,231.01', '$1,509,175.45', '$4,138,548.00', '$2,848,913.80',\n",
    "  '$594,715.39', '$4,789,988.17', '$4,513,644.5', '$3,191,059.97', '$1,758,712.24',\n",
    "  '$4,338,283.54', '$4,738,303.38', '$2,791,759.67', '$769,681.94', '$452,650.23']\n",
    "\n",
    "numb = pd.Series(list(numbers))\n",
    "print(numb)"
   ]
  },
  {
   "cell_type": "code",
   "execution_count": 22,
   "metadata": {},
   "outputs": [
    {
     "data": {
      "text/plain": [
       "<bound method NDFrame.describe of 0       $796,459.41\n",
       "1           $278.60\n",
       "2       $482,571.67\n",
       "3     $4,503,915.98\n",
       "4      $2,121,418.3\n",
       "5      $1,260,813.3\n",
       "6        $87,231.01\n",
       "7     $1,509,175.45\n",
       "8     $4,138,548.00\n",
       "9     $2,848,913.80\n",
       "10      $594,715.39\n",
       "11    $4,789,988.17\n",
       "12     $4,513,644.5\n",
       "13    $3,191,059.97\n",
       "14    $1,758,712.24\n",
       "15    $4,338,283.54\n",
       "16    $4,738,303.38\n",
       "17    $2,791,759.67\n",
       "18      $769,681.94\n",
       "19      $452,650.23\n",
       "dtype: object>"
      ]
     },
     "execution_count": 22,
     "metadata": {},
     "output_type": "execute_result"
    }
   ],
   "source": [
    "# What is the data type of the numbers Series?\n",
    "numb.describe"
   ]
  },
  {
   "cell_type": "code",
   "execution_count": 23,
   "metadata": {},
   "outputs": [
    {
     "data": {
      "text/plain": [
       "20"
      ]
     },
     "execution_count": 23,
     "metadata": {},
     "output_type": "execute_result"
    }
   ],
   "source": [
    "# How many elements are in the number Series?\n",
    "numb.count()"
   ]
  },
  {
   "cell_type": "code",
   "execution_count": 32,
   "metadata": {},
   "outputs": [],
   "source": [
    "# Perform the necessary manipulations by accessing Series attributes and methods to convert the numbers Series to a numeric data type.\n",
    "\n"
   ]
  },
  {
   "cell_type": "code",
   "execution_count": 10,
   "metadata": {},
   "outputs": [],
   "source": [
    "\n",
    "\n",
    "\n",
    "# Run the code to discover the maximum value from the Series.\n",
    "\n",
    "# Run the code to discover the minimum value from the Series.\n",
    "\n",
    "# What is the range of the values in the Series?\n",
    "\n",
    "# Bin the data into 4 equally sized intervals or bins and output how many values fall into each bin.\n",
    "\n",
    "# Plot the binned data in a meaningful way. Be sure to include a title and axis labels.\n",
    "\n",
    "# Use pandas to create a Series named exam_scores from the following list:\n",
    "\n",
    "# [60, 86, 75, 62, 93, 71, 60, 83, 95, 78, 65, 72, 69, 81, 96, 80, 85, 92, 82, 78]\n",
    "\n",
    "# How many elements are in the exam_scores Series?\n",
    "\n",
    "# Run the code to discover the minimum, the maximum, the mean, and the median scores for the exam_scores Series.\n",
    "\n",
    "# Plot the Series in a meaningful way and make sure your chart has a title and axis labels.\n",
    "\n",
    "# Write the code necessary to implement a curve for your exam_grades Series and\n",
    "# save this as curved_grades. Add the necessary points to the highest grade to make it 100,\n",
    "#  and add the same number of points to every other score in the Series as well.\n",
    "\n",
    "# Use a method to convert each of the numeric values in the curved_grades Series into a categorical value of letter grades.\n",
    "# For example, 86 should be a 'B' and 95 should be an 'A'. Save this as a Series named letter_grades.\n",
    "\n",
    "# Plot your new categorical letter_grades Series in a meaninful way and include a title and axis labels."
   ]
  },
  {
   "cell_type": "code",
   "execution_count": 50,
   "metadata": {},
   "outputs": [],
   "source": []
  },
  {
   "cell_type": "code",
   "execution_count": 51,
   "metadata": {},
   "outputs": [
    {
     "name": "stdout",
     "output_type": "stream",
     "text": [
      "2\n",
      "2\n",
      "2\n",
      "4\n",
      "4\n",
      "5\n",
      "3\n",
      "4\n",
      "3\n",
      "2\n",
      "2\n",
      "2\n",
      "2\n",
      "3\n",
      "2\n",
      "4\n",
      "3\n"
     ]
    },
    {
     "data": {
      "text/plain": [
       "0"
      ]
     },
     "execution_count": 51,
     "metadata": {},
     "output_type": "execute_result"
    }
   ],
   "source": []
  }
 ],
 "metadata": {
  "kernelspec": {
   "display_name": "base",
   "language": "python",
   "name": "python3"
  },
  "language_info": {
   "codemirror_mode": {
    "name": "ipython",
    "version": 3
   },
   "file_extension": ".py",
   "mimetype": "text/x-python",
   "name": "python",
   "nbconvert_exporter": "python",
   "pygments_lexer": "ipython3",
   "version": "3.9.13"
  },
  "orig_nbformat": 4
 },
 "nbformat": 4,
 "nbformat_minor": 2
}
